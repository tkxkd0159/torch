{
 "cells": [
  {
   "cell_type": "raw",
   "id": "eb358855-103f-48dd-92d1-cef9f62985ea",
   "metadata": {},
   "source": [
    "Tensors are similar to NumPy’s ndarrays, except that tensors can run on GPUs or other hardware accelerators.\n",
    "use tensors to encode the inputs and outputs of a model, as well as the model’s parameters.\n",
    "\n",
    "https://pytorch.org/docs/stable/tensors.html"
   ]
  },
  {
   "cell_type": "code",
   "execution_count": 3,
   "id": "ad91151d-dfdd-4121-b14f-a4ffb75104e6",
   "metadata": {},
   "outputs": [],
   "source": [
    "import torch\n",
    "import numpy as np"
   ]
  },
  {
   "cell_type": "code",
   "execution_count": 2,
   "id": "228d4f4c-3042-42d8-a345-c875cae2e787",
   "metadata": {
    "collapsed": true,
    "jupyter": {
     "outputs_hidden": true
    },
    "tags": []
   },
   "outputs": [
    {
     "name": "stdout",
     "output_type": "stream",
     "text": [
      "tensor([[1, 2],\n",
      "        [3, 4]])\n",
      "Ones Tensor: \n",
      " tensor([[1, 1],\n",
      "        [1, 1]]) \n",
      "\n",
      "Random Tensor: \n",
      " tensor([[0.6089, 0.5451],\n",
      "        [0.1112, 0.0369]]) \n",
      "\n",
      "Random Tensor: \n",
      " tensor([[[0.2068, 0.8868],\n",
      "         [0.6525, 0.1443],\n",
      "         [0.3963, 0.5516],\n",
      "         [0.8273, 0.6318]],\n",
      "\n",
      "        [[0.2205, 0.5054],\n",
      "         [0.9431, 0.8830],\n",
      "         [0.8961, 0.0022],\n",
      "         [0.3027, 0.0779]],\n",
      "\n",
      "        [[0.0491, 0.7108],\n",
      "         [0.9291, 0.0983],\n",
      "         [0.6988, 0.5663],\n",
      "         [0.5580, 0.9104]]]) \n",
      "\n",
      "Ones Tensor: \n",
      " tensor([[[1., 1.],\n",
      "         [1., 1.],\n",
      "         [1., 1.],\n",
      "         [1., 1.]],\n",
      "\n",
      "        [[1., 1.],\n",
      "         [1., 1.],\n",
      "         [1., 1.],\n",
      "         [1., 1.]],\n",
      "\n",
      "        [[1., 1.],\n",
      "         [1., 1.],\n",
      "         [1., 1.],\n",
      "         [1., 1.]]]) \n",
      "\n",
      "Zeros Tensor: \n",
      " tensor([[[0., 0.],\n",
      "         [0., 0.],\n",
      "         [0., 0.],\n",
      "         [0., 0.]],\n",
      "\n",
      "        [[0., 0.],\n",
      "         [0., 0.],\n",
      "         [0., 0.],\n",
      "         [0., 0.]],\n",
      "\n",
      "        [[0., 0.],\n",
      "         [0., 0.],\n",
      "         [0., 0.],\n",
      "         [0., 0.]]])\n"
     ]
    }
   ],
   "source": [
    "data = [[1, 2],[3, 4]]\n",
    "x_data = torch.tensor(data)\n",
    "print(x_data)\n",
    "\n",
    "x_ones = torch.ones_like(x_data) # retains the properties of x_data\n",
    "print(f\"Ones Tensor: \\n {x_ones} \\n\")\n",
    "\n",
    "x_rand = torch.rand_like(x_data, dtype=torch.float) # overrides the datatype of x_data\n",
    "print(f\"Random Tensor: \\n {x_rand} \\n\")\n",
    "\n",
    "shape = (3,4,2) # C, H, W\n",
    "rand_tensor = torch.rand(shape)\n",
    "ones_tensor = torch.ones(shape)\n",
    "zeros_tensor = torch.zeros(shape)\n",
    "\n",
    "print(f\"Random Tensor: \\n {rand_tensor} \\n\")\n",
    "print(f\"Ones Tensor: \\n {ones_tensor} \\n\")\n",
    "print(f\"Zeros Tensor: \\n {zeros_tensor}\")"
   ]
  },
  {
   "cell_type": "code",
   "execution_count": 3,
   "id": "687039a3-ea4b-4318-8635-5dddcd647cdc",
   "metadata": {},
   "outputs": [
    {
     "name": "stdout",
     "output_type": "stream",
     "text": [
      "Shape of tensor: torch.Size([3, 4])\n",
      "Datatype of tensor: torch.float32\n",
      "Device tensor is stored on: cuda:0\n",
      "cuda:0\n"
     ]
    }
   ],
   "source": [
    "tensor = torch.rand(3,4)\n",
    "cuda0 = torch.device('cuda')\n",
    "tensor = tensor.to(cuda0)\n",
    "print(f\"Shape of tensor: {tensor.shape}\")\n",
    "print(f\"Datatype of tensor: {tensor.dtype}\")\n",
    "print(f\"Device tensor is stored on: {tensor.device}\")\n",
    "other = torch.randn((), dtype=torch.float64, device=cuda0)\n",
    "print(other.device)"
   ]
  },
  {
   "cell_type": "code",
   "execution_count": 4,
   "id": "b1f01b4b-34e2-4fed-a13b-1fc5615bb79f",
   "metadata": {},
   "outputs": [],
   "source": [
    "if torch.cuda.is_available():\n",
    "  tensor = tensor.to('cuda')"
   ]
  },
  {
   "cell_type": "markdown",
   "id": "8c037260-09b6-44d4-aa55-6695f23d4873",
   "metadata": {},
   "source": [
    "### Indexing & Slicing"
   ]
  },
  {
   "cell_type": "code",
   "execution_count": 26,
   "id": "3f0c9cd8-b1bf-4125-b20a-b2b99c83742e",
   "metadata": {},
   "outputs": [
    {
     "name": "stdout",
     "output_type": "stream",
     "text": [
      "tensor([[[0.1446, 0.8874, 0.4613, 0.4684],\n",
      "         [0.6871, 0.8136, 0.0994, 0.3898],\n",
      "         [0.7995, 0.5936, 0.8933, 0.0302]],\n",
      "\n",
      "        [[0.5760, 0.1833, 0.3036, 0.8013],\n",
      "         [0.3347, 0.9959, 0.1989, 0.1865],\n",
      "         [0.7856, 0.6544, 0.0725, 0.7021]]])\n",
      "tensor([[[0.8017, 0.9123, 0.4146, 0.7147],\n",
      "         [0.6186, 0.1658, 0.7830, 0.7320],\n",
      "         [0.0041, 0.7663, 0.6325, 0.7809]],\n",
      "\n",
      "        [[0.9474, 0.5979, 0.2683, 0.7928],\n",
      "         [0.7629, 0.1135, 0.9531, 0.5871],\n",
      "         [0.3024, 0.0652, 0.5343, 0.1839]]])\n"
     ]
    }
   ],
   "source": [
    "tensor = torch.rand(2, 3, 4)\n",
    "tensor2 = torch.rand(2, 3, 4)\n",
    "print(tensor)\n",
    "print(tensor2)"
   ]
  },
  {
   "cell_type": "code",
   "execution_count": 27,
   "id": "607a2436-fbc2-452c-acb5-48e32c7b8dee",
   "metadata": {},
   "outputs": [
    {
     "name": "stdout",
     "output_type": "stream",
     "text": [
      "First channel:  tensor([[0.1446, 0.8874, 0.4613, 0.4684],\n",
      "        [0.6871, 0.8136, 0.0994, 0.3898],\n",
      "        [0.7995, 0.5936, 0.8933, 0.0302]])\n",
      "First Row:  tensor([[0.1446, 0.6871, 0.7995],\n",
      "        [0.5760, 0.3347, 0.7856]])\n",
      "First Column tensor([[0.1446, 0.6871, 0.7995],\n",
      "        [0.5760, 0.3347, 0.7856]])\n"
     ]
    }
   ],
   "source": [
    "print('First channel: ', tensor[0])\n",
    "print('First Row: ', tensor[:, :, 0])\n",
    "print('First Column', tensor[..., 0])"
   ]
  },
  {
   "cell_type": "markdown",
   "id": "b0af3a93-9374-4da2-8848-4a06964767e7",
   "metadata": {},
   "source": [
    "### Arithmetic operations"
   ]
  },
  {
   "cell_type": "code",
   "execution_count": 46,
   "id": "f8e249d5-fcf0-44bc-9de5-37509aaf5234",
   "metadata": {},
   "outputs": [
    {
     "name": "stdout",
     "output_type": "stream",
     "text": [
      "tensor([[29.8845, 23.9342, 23.1768],\n",
      "        [30.0460, 23.9167, 22.8323],\n",
      "        [30.0075, 24.3081, 22.8855]])\n",
      "tensor([[True, True, True],\n",
      "        [True, True, True],\n",
      "        [True, True, True]])\n",
      "tensor([[[ 8.1327,  9.9330,  4.3369,  7.4819],\n",
      "         [ 6.6108,  1.7926,  7.9080,  7.6052],\n",
      "         [ 0.0442,  8.1183,  6.8904,  7.8326]],\n",
      "\n",
      "        [[10.0193,  6.0884,  2.7646,  8.5635],\n",
      "         [ 7.8844,  1.2476,  9.7202,  5.9804],\n",
      "         [ 3.2615,  0.6946,  5.3820,  1.9677]]])\n",
      "tensor([[[15.1446, 15.8874, 15.4613, 15.4684],\n",
      "         [15.6871, 15.8136, 15.0994, 15.3898],\n",
      "         [15.7995, 15.5936, 15.8933, 15.0302]],\n",
      "\n",
      "        [[15.5760, 15.1833, 15.3036, 15.8013],\n",
      "         [15.3347, 15.9959, 15.1989, 15.1865],\n",
      "         [15.7856, 15.6544, 15.0725, 15.7021]]])\n"
     ]
    }
   ],
   "source": [
    "# Matrix multiplication\n",
    "y1 = tensor[0] @ tensor2[0].T\n",
    "y2 = tensor[0].matmul(tensor2[0].T)\n",
    "# element-wise product\n",
    "z1 = tensor * tensor2\n",
    "print(y1)\n",
    "print(y1 == y2)\n",
    "print(z1)\n",
    "\n",
    "# In-place operation\n",
    "tensor.add_(5) # 메소드에 _붙이면 반환없이 바로 적용되게 구현해놓음\n",
    "print(tensor)"
   ]
  },
  {
   "cell_type": "code",
   "execution_count": 28,
   "id": "f5f9929b-a88d-4e65-a4bf-77bed8670c06",
   "metadata": {},
   "outputs": [
    {
     "name": "stdout",
     "output_type": "stream",
     "text": [
      "tensor([[[0.1446, 0.8874, 0.4613, 0.4684],\n",
      "         [0.6871, 0.8136, 0.0994, 0.3898],\n",
      "         [0.7995, 0.5936, 0.8933, 0.0302]],\n",
      "\n",
      "        [[0.5760, 0.1833, 0.3036, 0.8013],\n",
      "         [0.3347, 0.9959, 0.1989, 0.1865],\n",
      "         [0.7856, 0.6544, 0.0725, 0.7021]],\n",
      "\n",
      "        [[0.8017, 0.9123, 0.4146, 0.7147],\n",
      "         [0.6186, 0.1658, 0.7830, 0.7320],\n",
      "         [0.0041, 0.7663, 0.6325, 0.7809]],\n",
      "\n",
      "        [[0.9474, 0.5979, 0.2683, 0.7928],\n",
      "         [0.7629, 0.1135, 0.9531, 0.5871],\n",
      "         [0.3024, 0.0652, 0.5343, 0.1839]]])\n",
      "tensor([[[0.1446, 0.8874, 0.4613, 0.4684],\n",
      "         [0.6871, 0.8136, 0.0994, 0.3898],\n",
      "         [0.7995, 0.5936, 0.8933, 0.0302],\n",
      "         [0.8017, 0.9123, 0.4146, 0.7147],\n",
      "         [0.6186, 0.1658, 0.7830, 0.7320],\n",
      "         [0.0041, 0.7663, 0.6325, 0.7809]],\n",
      "\n",
      "        [[0.5760, 0.1833, 0.3036, 0.8013],\n",
      "         [0.3347, 0.9959, 0.1989, 0.1865],\n",
      "         [0.7856, 0.6544, 0.0725, 0.7021],\n",
      "         [0.9474, 0.5979, 0.2683, 0.7928],\n",
      "         [0.7629, 0.1135, 0.9531, 0.5871],\n",
      "         [0.3024, 0.0652, 0.5343, 0.1839]]])\n",
      "tensor([[[0.1446, 0.8874, 0.4613, 0.4684, 0.8017, 0.9123, 0.4146, 0.7147],\n",
      "         [0.6871, 0.8136, 0.0994, 0.3898, 0.6186, 0.1658, 0.7830, 0.7320],\n",
      "         [0.7995, 0.5936, 0.8933, 0.0302, 0.0041, 0.7663, 0.6325, 0.7809]],\n",
      "\n",
      "        [[0.5760, 0.1833, 0.3036, 0.8013, 0.9474, 0.5979, 0.2683, 0.7928],\n",
      "         [0.3347, 0.9959, 0.1989, 0.1865, 0.7629, 0.1135, 0.9531, 0.5871],\n",
      "         [0.7856, 0.6544, 0.0725, 0.7021, 0.3024, 0.0652, 0.5343, 0.1839]]])\n"
     ]
    }
   ],
   "source": [
    "t0 = torch.cat([tensor, tensor2], dim=0)\n",
    "print(t0)\n",
    "\n",
    "t1 = torch.cat([tensor, tensor2], dim=1)\n",
    "print(t1)\n",
    "\n",
    "t2 = torch.cat([tensor, tensor2], dim=2)\n",
    "print(t2)"
   ]
  },
  {
   "cell_type": "code",
   "execution_count": 39,
   "id": "9439468a-58b3-4f97-a375-40ee3e0f3b97",
   "metadata": {},
   "outputs": [
    {
     "name": "stdout",
     "output_type": "stream",
     "text": [
      "12.063037872314453 <class 'float'>\n"
     ]
    }
   ],
   "source": [
    "agg = tensor.sum()\n",
    "agg_item = agg.item()\n",
    "print(agg_item, type(agg_item))"
   ]
  },
  {
   "cell_type": "markdown",
   "id": "dc0c7372-0ec2-4388-a0ab-cdd36c89ad1c",
   "metadata": {},
   "source": [
    "### Type Casting"
   ]
  },
  {
   "cell_type": "code",
   "execution_count": 54,
   "id": "6a418dc4-815c-40fd-aeea-3f095ec51cb7",
   "metadata": {},
   "outputs": [
    {
     "name": "stdout",
     "output_type": "stream",
     "text": [
      "[[[15.144573211669922, 15.887393951416016, 15.461296081542969, 15.468414306640625], [15.687061309814453, 15.813627243041992, 15.099424362182617, 15.389839172363281], [15.799461364746094, 15.593647003173828, 15.893321990966797, 15.03024673461914]], [[15.57595443725586, 15.183319091796875, 15.303594589233398, 15.801288604736328], [15.334693908691406, 15.995878219604492, 15.198944091796875, 15.186508178710938], [15.785558700561523, 15.65438461303711, 15.072513580322266, 15.70210075378418]]]\n",
      "[[[15.144573 15.887394 15.461296 15.468414]\n",
      "  [15.687061 15.813627 15.099424 15.389839]\n",
      "  [15.799461 15.593647 15.893322 15.030247]]\n",
      "\n",
      " [[15.575954 15.183319 15.303595 15.801289]\n",
      "  [15.334694 15.995878 15.198944 15.186508]\n",
      "  [15.785559 15.654385 15.072514 15.702101]]]\n"
     ]
    }
   ],
   "source": [
    "print(tensor.tolist())\n",
    "print(tensor.numpy())"
   ]
  }
 ],
 "metadata": {
  "interpreter": {
   "hash": "f9626085596a71c227d5af40f0aabb9dab82a36a6e6e662ad5eb470f1ba6a44e"
  },
  "kernelspec": {
   "display_name": "Python 3",
   "language": "python",
   "name": "python3"
  },
  "language_info": {
   "codemirror_mode": {
    "name": "ipython",
    "version": 3
   },
   "file_extension": ".py",
   "mimetype": "text/x-python",
   "name": "python",
   "nbconvert_exporter": "python",
   "pygments_lexer": "ipython3",
   "version": "3.9.4"
  }
 },
 "nbformat": 4,
 "nbformat_minor": 5
}
