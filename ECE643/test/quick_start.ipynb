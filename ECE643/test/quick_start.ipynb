{
 "cells": [
  {
   "cell_type": "code",
   "execution_count": 1,
   "id": "0d8360b2-bb95-4254-8c53-c63d4975ebff",
   "metadata": {},
   "outputs": [],
   "source": [
    "import torch\n",
    "from torch import nn\n",
    "from torch.utils.data import DataLoader\n",
    "from torchvision import datasets\n",
    "from torchvision.transforms import ToTensor, Lambda, Compose\n",
    "import matplotlib.pyplot as plt"
   ]
  },
  {
   "cell_type": "markdown",
   "id": "95e1b5e7-24e5-478e-a7c5-8232a6163f45",
   "metadata": {},
   "source": [
    "# Working with Data"
   ]
  },
  {
   "cell_type": "code",
   "execution_count": 2,
   "id": "6a829432-88de-40a8-a2f6-fe5a9da6f93f",
   "metadata": {},
   "outputs": [],
   "source": [
    "# Download training data from open datasets.\n",
    "training_data = datasets.FashionMNIST(\n",
    "    root=\"data\",\n",
    "    train=True,\n",
    "    download=True,\n",
    "    transform=ToTensor(),\n",
    ")\n",
    "\n",
    "# Download test data from open datasets.\n",
    "test_data = datasets.FashionMNIST(\n",
    "    root=\"data\",\n",
    "    train=False,\n",
    "    download=True,\n",
    "    transform=ToTensor(),\n",
    ")"
   ]
  },
  {
   "cell_type": "code",
   "execution_count": 3,
   "id": "a9cbbdce-db90-401d-9e2a-f95033eb7816",
   "metadata": {
    "tags": []
   },
   "outputs": [
    {
     "name": "stdout",
     "output_type": "stream",
     "text": [
      "Shape of X [N, C, H, W]:  torch.Size([64, 1, 28, 28])\n",
      "Shape of y:  torch.Size([64]) torch.int64\n"
     ]
    }
   ],
   "source": [
    "batch_size = 64\n",
    "\n",
    "# Create data loaders.\n",
    "train_dataloader = DataLoader(training_data, batch_size=batch_size)\n",
    "test_dataloader = DataLoader(test_data, batch_size=batch_size)\n",
    "\n",
    "for X, y in test_dataloader:\n",
    "    print(\"Shape of X [N, C, H, W]: \", X.shape)\n",
    "    print(\"Shape of y: \", y.shape, y.dtype)\n",
    "    break"
   ]
  },
  {
   "cell_type": "markdown",
   "id": "181d0ac5-0b52-4340-b849-cc2c4be17a7e",
   "metadata": {},
   "source": [
    "# Creating Models"
   ]
  },
  {
   "cell_type": "code",
   "execution_count": 4,
   "id": "aff15697-e4e1-421d-8b20-273749450fff",
   "metadata": {},
   "outputs": [
    {
     "name": "stdout",
     "output_type": "stream",
     "text": [
      "Using cuda device\n",
      "NeuralNetwork(\n",
      "  (flatten): Flatten(start_dim=1, end_dim=-1)\n",
      "  (linear_relu_stack): Sequential(\n",
      "    (0): Linear(in_features=784, out_features=512, bias=True)\n",
      "    (1): ReLU()\n",
      "    (2): Linear(in_features=512, out_features=512, bias=True)\n",
      "    (3): ReLU()\n",
      "    (4): Linear(in_features=512, out_features=10, bias=True)\n",
      "    (5): ReLU()\n",
      "  )\n",
      ")\n"
     ]
    }
   ],
   "source": [
    "# Get cpu or gpu device for training.\n",
    "device = \"cuda\" if torch.cuda.is_available() else \"cpu\"\n",
    "print(\"Using {} device\".format(device))\n",
    "\n",
    "# Define model\n",
    "class NeuralNetwork(nn.Module):\n",
    "    def __init__(self):\n",
    "        super(NeuralNetwork, self).__init__()\n",
    "        self.flatten = nn.Flatten()\n",
    "        self.linear_relu_stack = nn.Sequential(\n",
    "            nn.Linear(28*28, 512),\n",
    "            nn.ReLU(),\n",
    "            nn.Linear(512, 512),\n",
    "            nn.ReLU(),\n",
    "            nn.Linear(512, 10),\n",
    "            nn.ReLU()\n",
    "        )\n",
    "\n",
    "    def forward(self, x):\n",
    "        x = self.flatten(x)\n",
    "        logits = self.linear_relu_stack(x)\n",
    "        return logits\n",
    "\n",
    "model = NeuralNetwork().to(device)\n",
    "print(model)"
   ]
  },
  {
   "cell_type": "markdown",
   "id": "892e80f5-dd5d-411a-b0dd-daed4a55ac41",
   "metadata": {},
   "source": [
    "# Optimizing the Model Parameters"
   ]
  },
  {
   "cell_type": "code",
   "execution_count": 11,
   "id": "faf7b5f1-deea-47a4-a8dc-d4890527b919",
   "metadata": {},
   "outputs": [],
   "source": [
    "loss_fn = nn.CrossEntropyLoss()\n",
    "# optimizer = torch.optim.Adam(model.parameters(), lr=1e-3)\n",
    "optimizer = torch.optim.SGD(model.parameters(), lr=1e-3)\n",
    "\n",
    "def train(dataloader, model, loss_fn, optimizer):\n",
    "    size = len(dataloader.dataset)\n",
    "    for batch, (X, y) in enumerate(dataloader):\n",
    "        X, y = X.to(device), y.to(device)\n",
    "\n",
    "        # Compute prediction error\n",
    "        pred = model(X)\n",
    "        loss = loss_fn(pred, y)\n",
    "\n",
    "        # Backpropagation\n",
    "        optimizer.zero_grad()\n",
    "        loss.backward()\n",
    "        optimizer.step()\n",
    "\n",
    "        if batch % 100 == 0:\n",
    "            loss, current = loss.item(), batch * len(X)\n",
    "            print(f\"loss: {loss:>7f}  [{current:>5d}/{size:>5d}]\")\n",
    "\n",
    "def test(dataloader, model):\n",
    "    size = len(dataloader.dataset)\n",
    "    model.eval()\n",
    "    test_loss, correct = 0, 0\n",
    "    with torch.no_grad():\n",
    "        for X, y in dataloader:\n",
    "            X, y = X.to(device), y.to(device)\n",
    "            pred = model(X)\n",
    "            test_loss += loss_fn(pred, y).item()\n",
    "            correct += (pred.argmax(1) == y).type(torch.float).sum().item()\n",
    "    test_loss /= size\n",
    "    correct /= size\n",
    "    print(f\"Test Error: \\n Accuracy: {(100*correct):>0.1f}%, Avg loss: {test_loss:>8f} \\n\")"
   ]
  },
  {
   "cell_type": "code",
   "execution_count": 12,
   "id": "e136c259-cea5-4728-81c9-ac948e81ddf8",
   "metadata": {},
   "outputs": [
    {
     "name": "stdout",
     "output_type": "stream",
     "text": [
      "Epoch 1\n",
      "-------------------------------\n",
      "loss: 1.275633  [    0/60000]\n",
      "loss: 1.303801  [ 6400/60000]\n",
      "loss: 1.354084  [12800/60000]\n",
      "loss: 1.563782  [19200/60000]\n",
      "loss: 1.331188  [25600/60000]\n",
      "loss: 1.369580  [32000/60000]\n",
      "loss: 1.240578  [38400/60000]\n",
      "loss: 1.243558  [44800/60000]\n",
      "loss: 1.520410  [51200/60000]\n",
      "loss: 1.148149  [57600/60000]\n",
      "Test Error: \n",
      " Accuracy: 43.8%, Avg loss: 0.022074 \n",
      "\n",
      "Epoch 2\n",
      "-------------------------------\n",
      "loss: 1.274332  [    0/60000]\n",
      "loss: 1.272256  [ 6400/60000]\n",
      "loss: 1.351305  [12800/60000]\n",
      "loss: 1.554055  [19200/60000]\n",
      "loss: 1.327428  [25600/60000]\n",
      "loss: 1.342407  [32000/60000]\n",
      "loss: 1.228296  [38400/60000]\n",
      "loss: 1.232253  [44800/60000]\n",
      "loss: 1.513724  [51200/60000]\n",
      "loss: 1.153321  [57600/60000]\n",
      "Test Error: \n",
      " Accuracy: 43.9%, Avg loss: 0.022043 \n",
      "\n",
      "Epoch 3\n",
      "-------------------------------\n",
      "loss: 1.275295  [    0/60000]\n",
      "loss: 1.265425  [ 6400/60000]\n",
      "loss: 1.348890  [12800/60000]\n",
      "loss: 1.553934  [19200/60000]\n",
      "loss: 1.323563  [25600/60000]\n",
      "loss: 1.337120  [32000/60000]\n",
      "loss: 1.222023  [38400/60000]\n",
      "loss: 1.230007  [44800/60000]\n",
      "loss: 1.508723  [51200/60000]\n",
      "loss: 1.154177  [57600/60000]\n",
      "Test Error: \n",
      " Accuracy: 43.9%, Avg loss: 0.022031 \n",
      "\n",
      "Epoch 4\n",
      "-------------------------------\n",
      "loss: 1.276871  [    0/60000]\n",
      "loss: 1.260986  [ 6400/60000]\n",
      "loss: 1.346057  [12800/60000]\n",
      "loss: 1.554320  [19200/60000]\n",
      "loss: 1.320755  [25600/60000]\n",
      "loss: 1.335188  [32000/60000]\n",
      "loss: 1.218991  [38400/60000]\n",
      "loss: 1.229367  [44800/60000]\n",
      "loss: 1.505264  [51200/60000]\n",
      "loss: 1.154136  [57600/60000]\n",
      "Test Error: \n",
      " Accuracy: 43.9%, Avg loss: 0.022025 \n",
      "\n",
      "Epoch 5\n",
      "-------------------------------\n",
      "loss: 1.277473  [    0/60000]\n",
      "loss: 1.258004  [ 6400/60000]\n",
      "loss: 1.343987  [12800/60000]\n",
      "loss: 1.554472  [19200/60000]\n",
      "loss: 1.317934  [25600/60000]\n",
      "loss: 1.334401  [32000/60000]\n",
      "loss: 1.217268  [38400/60000]\n",
      "loss: 1.228636  [44800/60000]\n",
      "loss: 1.502111  [51200/60000]\n",
      "loss: 1.153805  [57600/60000]\n",
      "Test Error: \n",
      " Accuracy: 43.9%, Avg loss: 0.022022 \n",
      "\n",
      "Done!\n"
     ]
    }
   ],
   "source": [
    "epochs = 5\n",
    "for t in range(epochs):\n",
    "    print(f\"Epoch {t+1}\\n-------------------------------\")\n",
    "    train(train_dataloader, model, loss_fn, optimizer)\n",
    "    test(test_dataloader, model)\n",
    "print(\"Done!\")"
   ]
  },
  {
   "cell_type": "markdown",
   "id": "a11d4557-544a-406d-9733-61b5d2f3f247",
   "metadata": {},
   "source": [
    "# Saving & Loading Models"
   ]
  },
  {
   "cell_type": "code",
   "execution_count": 13,
   "id": "5d240d01-da1c-47da-b1ea-31faf5910f34",
   "metadata": {},
   "outputs": [
    {
     "name": "stdout",
     "output_type": "stream",
     "text": [
      "Saved PyTorch Model State to model.pth\n"
     ]
    }
   ],
   "source": [
    "torch.save(model.state_dict(), \"model.pth\")\n",
    "print(\"Saved PyTorch Model State to model.pth\")"
   ]
  },
  {
   "cell_type": "code",
   "execution_count": 14,
   "id": "7b30849c-1c34-440b-9a58-63586282e0b1",
   "metadata": {},
   "outputs": [
    {
     "data": {
      "text/plain": [
       "<All keys matched successfully>"
      ]
     },
     "execution_count": 14,
     "metadata": {},
     "output_type": "execute_result"
    }
   ],
   "source": [
    "model = NeuralNetwork()\n",
    "model.load_state_dict(torch.load(\"model.pth\"))"
   ]
  },
  {
   "cell_type": "code",
   "execution_count": 15,
   "id": "15a579d9-bcd9-4c51-adca-87042dd8769e",
   "metadata": {},
   "outputs": [
    {
     "name": "stdout",
     "output_type": "stream",
     "text": [
      "Predicted: \"Ankle boot\", Actual: \"Ankle boot\"\n"
     ]
    }
   ],
   "source": [
    "classes = [\n",
    "    \"T-shirt/top\",\n",
    "    \"Trouser\",\n",
    "    \"Pullover\",\n",
    "    \"Dress\",\n",
    "    \"Coat\",\n",
    "    \"Sandal\",\n",
    "    \"Shirt\",\n",
    "    \"Sneaker\",\n",
    "    \"Bag\",\n",
    "    \"Ankle boot\",\n",
    "]\n",
    "\n",
    "model.eval()\n",
    "x, y = test_data[0][0], test_data[0][1]\n",
    "with torch.no_grad():                                           # Context-manager that disabled gradient calculation.\n",
    "    pred = model(x)\n",
    "    predicted, actual = classes[pred[0].argmax(0)], classes[y]  # Returns the indices of the maximum value of all elements in the input tensor.\n",
    "    print(f'Predicted: \"{predicted}\", Actual: \"{actual}\"')"
   ]
  },
  {
   "cell_type": "code",
   "execution_count": null,
   "id": "f1788c8d-6fa2-45fa-b907-483d8fafb658",
   "metadata": {},
   "outputs": [],
   "source": []
  }
 ],
 "metadata": {
  "kernelspec": {
   "display_name": "Python 3",
   "language": "python",
   "name": "python3"
  },
  "language_info": {
   "codemirror_mode": {
    "name": "ipython",
    "version": 3
   },
   "file_extension": ".py",
   "mimetype": "text/x-python",
   "name": "python",
   "nbconvert_exporter": "python",
   "pygments_lexer": "ipython3",
   "version": "3.9.4"
  }
 },
 "nbformat": 4,
 "nbformat_minor": 5
}
